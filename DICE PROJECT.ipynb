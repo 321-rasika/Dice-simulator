{
 "cells": [
  {
   "cell_type": "code",
   "execution_count": 3,
   "metadata": {},
   "outputs": [],
   "source": [
    "import tkinter\n",
    "from tkinter import Tk,Label,Entry,Button\n",
    "from tkinter import *\n",
    "import random\n",
    "from PIL import ImageTk,Image"
   ]
  },
  {
   "cell_type": "code",
   "execution_count": 5,
   "metadata": {},
   "outputs": [],
   "source": [
    "obj=Tk()\n",
    "obj.title(\"Dice Simulator\")\n",
    "#obj.geometry(\"300x300\")\n",
    "\n",
    "def start():\n",
    "    obj2.delete(0,50)\n",
    "    s1=random.randint(1,6)\n",
    "    obj2.insert(0,s1)\n",
    "    \n",
    "def delete():\n",
    "    obj2.delete(0,50)\n",
    "     \n",
    "\n",
    "my_img=ImageTk.PhotoImage(Image.open(\"dice2.png\"))\n",
    "my_label=Label(image=my_img)\n",
    "my_label.grid(row=6,column=0)\n",
    "\n",
    "#label\n",
    "obj1=Label(obj,text=\"CLICK ON ROLL TO START\",font=(\"Times\",25,'bold'),fg=\"black\")\n",
    "obj1.grid(row=1,column=0,padx=10,pady=5)\n",
    "fc=obj1.config(background=\"pink\")\n",
    "#Entry/display\n",
    "obj2=Entry(obj,font=(\"consolos\",20))\n",
    "obj2.grid(row=2,column=0,padx=20,pady=5)\n",
    "\n",
    "#Button\n",
    "obj3=Button(obj,text=\"ROLL\",command=start,font=(\"Times\",20,\"bold\"))\n",
    "obj3.grid(row=3,column=0,padx=10,pady=5)\n",
    "\n",
    "obj4=Button(obj,text=\"RESET\",command=delete,font=(\"Times\",20,\"bold\"))\n",
    "obj4.grid(row=4,column=0,padx=10,pady=5)\n",
    "\n",
    "#button_quit=Button(obj,text=\"EXIT\",command=obj.quit,font=(\"Times\",20,\"bold\"))\n",
    "#button_quit.grid(row=5,column=0,padx=10,pady=5)\n",
    "\n",
    "obj.mainloop()"
   ]
  }
 ],
 "metadata": {
  "kernelspec": {
   "display_name": "Python 3",
   "language": "python",
   "name": "python3"
  },
  "language_info": {
   "codemirror_mode": {
    "name": "ipython",
    "version": 3
   },
   "file_extension": ".py",
   "mimetype": "text/x-python",
   "name": "python",
   "nbconvert_exporter": "python",
   "pygments_lexer": "ipython3",
   "version": "3.8.3"
  }
 },
 "nbformat": 4,
 "nbformat_minor": 4
}
